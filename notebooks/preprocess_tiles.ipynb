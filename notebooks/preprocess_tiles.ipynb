{
 "cells": [
  {
   "cell_type": "code",
   "execution_count": 1,
   "id": "7a56ced3",
   "metadata": {},
   "outputs": [
    {
     "name": "stderr",
     "output_type": "stream",
     "text": [
      "Preprocessing classes: 100%|██████████| 3/3 [00:03<00:00,  1.26s/it]"
     ]
    },
    {
     "name": "stdout",
     "output_type": "stream",
     "text": [
      " Preprocessing complete. Cleaned tiles are ready for training.\n"
     ]
    },
    {
     "name": "stderr",
     "output_type": "stream",
     "text": [
      "\n"
     ]
    }
   ],
   "source": [
    "# notebooks/preprocess_tiles.ipynb\n",
    "\n",
    "# --- Install required libraries if needed ---\n",
    "# !pip install opencv-python tqdm\n",
    "\n",
    "# --- Fix path to scripts ---\n",
    "import sys\n",
    "sys.path.append(\"../scripts\")\n",
    "\n",
    "# --- Import preprocessing function ---\n",
    "from preprocessing import preprocess_tiles\n",
    "import os\n",
    "\n",
    "# --- Define Paths ---\n",
    "tiles_folder = \"../data/tiles/\"              # Your original tiles\n",
    "processed_tiles_folder = \"../data/processed_tiles/\"  # Where cleaned tiles will go\n",
    "\n",
    "# --- Set Threshold for Filtering ---\n",
    "info_threshold = 10  # Lower = keep more tiles, Higher = more strict\n",
    "\n",
    "# --- Preprocess Tiles ---\n",
    "preprocess_tiles(input_dir=tiles_folder, output_dir=processed_tiles_folder, threshold=info_threshold)\n",
    "\n",
    "print(\" Preprocessing complete. Cleaned tiles are ready for training.\")\n"
   ]
  }
 ],
 "metadata": {
  "kernelspec": {
   "display_name": ".venv",
   "language": "python",
   "name": "python3"
  },
  "language_info": {
   "codemirror_mode": {
    "name": "ipython",
    "version": 3
   },
   "file_extension": ".py",
   "mimetype": "text/x-python",
   "name": "python",
   "nbconvert_exporter": "python",
   "pygments_lexer": "ipython3",
   "version": "3.12.5"
  }
 },
 "nbformat": 4,
 "nbformat_minor": 5
}
